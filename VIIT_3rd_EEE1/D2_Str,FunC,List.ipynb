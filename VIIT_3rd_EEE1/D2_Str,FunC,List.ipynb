{
 "cells": [
  {
   "cell_type": "code",
   "execution_count": 2,
   "metadata": {},
   "outputs": [
    {
     "name": "stdout",
     "output_type": "stream",
     "text": [
      "Enter a value12\n",
      "Enter a op%\n",
      "Enter a value3\n",
      "0\n"
     ]
    }
   ],
   "source": [
    "# Day1 Task :\n",
    "# Design a Basic Calculator \n",
    "# Read values and Operator from user\n",
    "\n",
    "val1 = int(input(\"Enter a value\"))\n",
    "op  = input(\"Enter a op\")\n",
    "val2 = int(input(\"Enter a value\"))\n",
    "if op == '+':\n",
    "    print(val1+val2)\n",
    "elif op == '-':\n",
    "    print(val1-val2)\n",
    "elif op == '*':\n",
    "    print(val1*val2)\n",
    "elif op == '/':\n",
    "    print(val1/val2)\n",
    "elif op == '%':\n",
    "    print(val1%val2)\n",
    "elif op == '**':\n",
    "    print(val1**val2)"
   ]
  },
  {
   "cell_type": "markdown",
   "metadata": {},
   "source": [
    "# Day Objectives:\n",
    "\n",
    "### * Strings\n",
    "  - Strings Methods\n",
    "  \n",
    "### * Lists\n",
    "  - List Methods\n",
    "  \n",
    "### *  Iterations\n",
    "\n",
    "    A. for loop\n",
    "    \n",
    "    B. while loop\n",
    "    \n",
    "    C. for with else keyword\n",
    "\n",
    "\n",
    "\n",
    "### * Functions\n",
    "\n",
    "    A. System defined\n",
    "        ex: input(),print(),len(),range()\n",
    "    B.User defined\n",
    "             Based on type of argument passing:\n",
    "                  i. Required argument functions\n",
    "                 ii. Keyword argument functions\n",
    "                iii. Default argument functions\n",
    "                iv. Variable length argument functions\n",
    "            Based on Arguments and return type:\n",
    "                  i. Without Argument and without return value\n",
    "                 Ii. Without argument and with return value\n",
    "                Iii. With argument and without return value\n",
    "                Iv.  With argument and with return value\n",
    "     C. Anonymous functions\n",
    "         lambda\n",
    "\n",
    " \n",
    " "
   ]
  },
  {
   "cell_type": "code",
   "execution_count": 6,
   "metadata": {},
   "outputs": [
    {
     "name": "stdout",
     "output_type": "stream",
     "text": [
      "<class 'str'>\n",
      "<class 'str'>\n",
      "<class 'str'>\n"
     ]
    }
   ],
   "source": [
    "# strings\n",
    "# group oF char\n",
    "# collection of characters\n",
    "h='hi'\n",
    "print(type(h))\n",
    "Hi=\"Hi\"\n",
    "print(type(Hi))\n",
    "h3='abc123'\n",
    "print(type(h3))"
   ]
  },
  {
   "cell_type": "code",
   "execution_count": 7,
   "metadata": {},
   "outputs": [],
   "source": [
    "st='Good Morning VIIT@123'\n",
    "sin='123'\n"
   ]
  },
  {
   "cell_type": "code",
   "execution_count": 8,
   "metadata": {},
   "outputs": [
    {
     "name": "stdout",
     "output_type": "stream",
     "text": [
      "True\n"
     ]
    }
   ],
   "source": [
    "st2='Good Morning'\n",
    "if 'oo' in st2:\n",
    "    print('True')\n",
    "else:\n",
    "    print('False')"
   ]
  },
  {
   "cell_type": "code",
   "execution_count": 12,
   "metadata": {},
   "outputs": [
    {
     "name": "stdout",
     "output_type": "stream",
     "text": [
      "G\n",
      "o\n",
      "o\n",
      "d\n",
      "d\n",
      "o\n"
     ]
    }
   ],
   "source": [
    "# index\n",
    "# Good Morning\n",
    "# index start with 0\n",
    "H2='Good'\n",
    "print(H2[0])\n",
    "print(H2[1])\n",
    "print(H2[2])\n",
    "print(H2[3])\n",
    "print(H2[-1])\n",
    "print(H2[-2])\n",
    "k='Hello World'\n",
    "print(k[0:7:2])\n",
    "#start,end,step"
   ]
  },
  {
   "cell_type": "code",
   "execution_count": 23,
   "metadata": {},
   "outputs": [
    {
     "name": "stdout",
     "output_type": "stream",
     "text": [
      " gnireenignE fo egelloC nagiV\n",
      "a olg\n",
      "gan College of Engineering \n",
      "g\n",
      "14\n"
     ]
    }
   ],
   "source": [
    "j='Vigan College of Engineering '\n",
    "print(j[::-1])\n",
    "print(j[3:13:2])\n",
    "print(j[2:])\n",
    "print(j[2::-3])\n",
    "print(len(j)//2)"
   ]
  },
  {
   "cell_type": "code",
   "execution_count": 29,
   "metadata": {},
   "outputs": [
    {
     "name": "stdout",
     "output_type": "stream",
     "text": [
      "True\n"
     ]
    }
   ],
   "source": [
    "# mom\n",
    "# dad\n",
    "# 121\n",
    "# 171\n",
    "# 151\n",
    "st2='DaD'\n",
    "st4=st2[::-1]\n",
    "if st2==st4:\n",
    "    print('True')\n",
    "else:\n",
    "    print('False')"
   ]
  },
  {
   "cell_type": "code",
   "execution_count": 30,
   "metadata": {
    "scrolled": true
   },
   "outputs": [
    {
     "data": {
      "text/plain": [
       "['__add__',\n",
       " '__class__',\n",
       " '__contains__',\n",
       " '__delattr__',\n",
       " '__dir__',\n",
       " '__doc__',\n",
       " '__eq__',\n",
       " '__format__',\n",
       " '__ge__',\n",
       " '__getattribute__',\n",
       " '__getitem__',\n",
       " '__getnewargs__',\n",
       " '__gt__',\n",
       " '__hash__',\n",
       " '__init__',\n",
       " '__init_subclass__',\n",
       " '__iter__',\n",
       " '__le__',\n",
       " '__len__',\n",
       " '__lt__',\n",
       " '__mod__',\n",
       " '__mul__',\n",
       " '__ne__',\n",
       " '__new__',\n",
       " '__reduce__',\n",
       " '__reduce_ex__',\n",
       " '__repr__',\n",
       " '__rmod__',\n",
       " '__rmul__',\n",
       " '__setattr__',\n",
       " '__sizeof__',\n",
       " '__str__',\n",
       " '__subclasshook__',\n",
       " 'capitalize',\n",
       " 'casefold',\n",
       " 'center',\n",
       " 'count',\n",
       " 'encode',\n",
       " 'endswith',\n",
       " 'expandtabs',\n",
       " 'find',\n",
       " 'format',\n",
       " 'format_map',\n",
       " 'index',\n",
       " 'isalnum',\n",
       " 'isalpha',\n",
       " 'isascii',\n",
       " 'isdecimal',\n",
       " 'isdigit',\n",
       " 'isidentifier',\n",
       " 'islower',\n",
       " 'isnumeric',\n",
       " 'isprintable',\n",
       " 'isspace',\n",
       " 'istitle',\n",
       " 'isupper',\n",
       " 'join',\n",
       " 'ljust',\n",
       " 'lower',\n",
       " 'lstrip',\n",
       " 'maketrans',\n",
       " 'partition',\n",
       " 'replace',\n",
       " 'rfind',\n",
       " 'rindex',\n",
       " 'rjust',\n",
       " 'rpartition',\n",
       " 'rsplit',\n",
       " 'rstrip',\n",
       " 'split',\n",
       " 'splitlines',\n",
       " 'startswith',\n",
       " 'strip',\n",
       " 'swapcase',\n",
       " 'title',\n",
       " 'translate',\n",
       " 'upper',\n",
       " 'zfill']"
      ]
     },
     "execution_count": 30,
     "metadata": {},
     "output_type": "execute_result"
    }
   ],
   "source": [
    "stt='H'\n",
    "dir(stt)"
   ]
  },
  {
   "cell_type": "code",
   "execution_count": 57,
   "metadata": {},
   "outputs": [
    {
     "name": "stdout",
     "output_type": "stream",
     "text": [
      "Engineerig\n",
      "3\n",
      "True\n",
      "3\n",
      "1\n",
      "True\n",
      "True\n",
      "False\n",
      "True\n",
      "True\n",
      "VnginVVrig\n",
      "['good mo', 'ning']\n",
      "GOOD MORNING\n",
      "Good Morning\n",
      "gViganoViganoVigandVigan ViganmViganoViganrVigannViganiVigannVigang\n"
     ]
    }
   ],
   "source": [
    "sttt='engineerig'\n",
    "print(sttt.capitalize())\n",
    "print(sttt.count('e'))\n",
    "print(sttt.endswith('g'))\n",
    "print(sttt.find('i'))\n",
    "print(sttt.index('n'))\n",
    "print(sttt.isalnum())\n",
    "print(sttt.isalpha())\n",
    "print(sttt.isupper())\n",
    "print(sttt.islower())\n",
    "print(sttt.startswith('e'))\n",
    "print(sttt.replace('e','V'))\n",
    "sst='good morning'\n",
    "print(sst.split('r'))\n",
    "print(sst.swapcase())\n",
    "print(sst.title())\n",
    "kt='Vigan'.join(sst)\n",
    "print(kt)"
   ]
  },
  {
   "cell_type": "code",
   "execution_count": 64,
   "metadata": {},
   "outputs": [
    {
     "name": "stdout",
     "output_type": "stream",
     "text": [
      "[1, 2, 3, 'Python', 12.1, [13, 15, 'Pyt', 12.4]]\n",
      "<class 'list'>\n",
      "2\n",
      "[13, 15, 'Pyt', 12.4]\n",
      "[[13, 15, 'Pyt', 12.4], 12.1, 'Python', 3, 2, 1]\n"
     ]
    }
   ],
   "source": [
    "# list is collection of different data types like\n",
    "# strings,int,float\n",
    "li=[1,2,3,'Python',12.10,[13,15,'Pyt',12.4]]\n",
    "print(li)\n",
    "print(type(li))\n",
    "print(li[1])\n",
    "print(li[-1])\n",
    "print(li[::-1])"
   ]
  },
  {
   "cell_type": "code",
   "execution_count": 69,
   "metadata": {},
   "outputs": [
    {
     "name": "stdout",
     "output_type": "stream",
     "text": [
      "4\n",
      "None\n"
     ]
    }
   ],
   "source": [
    "li1=[1,2,3,4]\n",
    "print(len(li1))\n",
    "dir(li1)\n",
    "ll2=[6,7]\n",
    "t=ll2.append(li1)\n",
    "print(t)"
   ]
  },
  {
   "cell_type": "code",
   "execution_count": 78,
   "metadata": {
    "scrolled": true
   },
   "outputs": [
    {
     "data": {
      "text/plain": [
       "['__add__',\n",
       " '__class__',\n",
       " '__contains__',\n",
       " '__delattr__',\n",
       " '__delitem__',\n",
       " '__dir__',\n",
       " '__doc__',\n",
       " '__eq__',\n",
       " '__format__',\n",
       " '__ge__',\n",
       " '__getattribute__',\n",
       " '__getitem__',\n",
       " '__gt__',\n",
       " '__hash__',\n",
       " '__iadd__',\n",
       " '__imul__',\n",
       " '__init__',\n",
       " '__init_subclass__',\n",
       " '__iter__',\n",
       " '__le__',\n",
       " '__len__',\n",
       " '__lt__',\n",
       " '__mul__',\n",
       " '__ne__',\n",
       " '__new__',\n",
       " '__reduce__',\n",
       " '__reduce_ex__',\n",
       " '__repr__',\n",
       " '__reversed__',\n",
       " '__rmul__',\n",
       " '__setattr__',\n",
       " '__setitem__',\n",
       " '__sizeof__',\n",
       " '__str__',\n",
       " '__subclasshook__',\n",
       " 'append',\n",
       " 'clear',\n",
       " 'copy',\n",
       " 'count',\n",
       " 'extend',\n",
       " 'index',\n",
       " 'insert',\n",
       " 'pop',\n",
       " 'remove',\n",
       " 'reverse',\n",
       " 'sort']"
      ]
     },
     "execution_count": 78,
     "metadata": {},
     "output_type": "execute_result"
    }
   ],
   "source": [
    "tt=[]\n",
    "dir(tt)"
   ]
  },
  {
   "cell_type": "code",
   "execution_count": 76,
   "metadata": {},
   "outputs": [
    {
     "name": "stdout",
     "output_type": "stream",
     "text": [
      "[1, 2, 3, [4, 5]]\n"
     ]
    }
   ],
   "source": [
    "l1=[1,2,3]\n",
    "l2=[4,5]\n",
    "l1.append(l2)\n",
    "print(l1)"
   ]
  },
  {
   "cell_type": "code",
   "execution_count": 83,
   "metadata": {},
   "outputs": [
    {
     "data": {
      "text/plain": [
       "[9, 10, 9]"
      ]
     },
     "execution_count": 83,
     "metadata": {},
     "output_type": "execute_result"
    }
   ],
   "source": [
    "l3=[9,10,9]\n",
    "l4=l3.copy()\n",
    "l4"
   ]
  },
  {
   "cell_type": "code",
   "execution_count": 84,
   "metadata": {},
   "outputs": [
    {
     "data": {
      "text/plain": [
       "2"
      ]
     },
     "execution_count": 84,
     "metadata": {},
     "output_type": "execute_result"
    }
   ],
   "source": [
    "l3.count(9)"
   ]
  },
  {
   "cell_type": "code",
   "execution_count": 89,
   "metadata": {},
   "outputs": [
    {
     "data": {
      "text/plain": [
       "[1, 2, 3, 6, 7, 9]"
      ]
     },
     "execution_count": 89,
     "metadata": {},
     "output_type": "execute_result"
    }
   ],
   "source": [
    "l6=[6,7,9]\n",
    "l7=[1,2,3]\n",
    "l7.extend(l6)\n",
    "l7"
   ]
  },
  {
   "cell_type": "code",
   "execution_count": 90,
   "metadata": {},
   "outputs": [
    {
     "name": "stdout",
     "output_type": "stream",
     "text": [
      "2\n"
     ]
    }
   ],
   "source": [
    "print(l6.index(9))"
   ]
  },
  {
   "cell_type": "code",
   "execution_count": 93,
   "metadata": {},
   "outputs": [
    {
     "name": "stdout",
     "output_type": "stream",
     "text": [
      "[10, 12, 13, 15]\n"
     ]
    }
   ],
   "source": [
    "l9=[10,12,13]\n",
    "l9.insert(3,15)\n",
    "print(l9)\n"
   ]
  },
  {
   "cell_type": "code",
   "execution_count": 94,
   "metadata": {},
   "outputs": [
    {
     "data": {
      "text/plain": [
       "15"
      ]
     },
     "execution_count": 94,
     "metadata": {},
     "output_type": "execute_result"
    }
   ],
   "source": [
    "l9.pop()"
   ]
  },
  {
   "cell_type": "code",
   "execution_count": 95,
   "metadata": {},
   "outputs": [],
   "source": [
    "l9.remove(12)"
   ]
  },
  {
   "cell_type": "code",
   "execution_count": 96,
   "metadata": {},
   "outputs": [
    {
     "data": {
      "text/plain": [
       "[10, 13]"
      ]
     },
     "execution_count": 96,
     "metadata": {},
     "output_type": "execute_result"
    }
   ],
   "source": [
    "l9"
   ]
  },
  {
   "cell_type": "code",
   "execution_count": 103,
   "metadata": {},
   "outputs": [
    {
     "data": {
      "text/plain": [
       "[3, 4, 5, 6, 7, 8, 9]"
      ]
     },
     "execution_count": 103,
     "metadata": {},
     "output_type": "execute_result"
    }
   ],
   "source": [
    "l10=[9,8,7,6,5,4,3]\n",
    "l10.reverse()\n",
    "l10"
   ]
  },
  {
   "cell_type": "code",
   "execution_count": 104,
   "metadata": {},
   "outputs": [
    {
     "name": "stdout",
     "output_type": "stream",
     "text": [
      "[0, 1, 5, 7, 9, 10, 11]\n"
     ]
    }
   ],
   "source": [
    "l11=[7,5,10,9,1,0,11]\n",
    "l11.sort()\n",
    "print(l11)"
   ]
  },
  {
   "cell_type": "code",
   "execution_count": 105,
   "metadata": {},
   "outputs": [
    {
     "name": "stdout",
     "output_type": "stream",
     "text": [
      "[]\n"
     ]
    }
   ],
   "source": [
    "l12=[12,13,15]\n",
    "l12.clear()\n",
    "print(l12)"
   ]
  },
  {
   "cell_type": "markdown",
   "metadata": {},
   "source": [
    "# Loops\n"
   ]
  },
  {
   "cell_type": "code",
   "execution_count": 106,
   "metadata": {},
   "outputs": [
    {
     "name": "stdout",
     "output_type": "stream",
     "text": [
      "0 1 2 3 4\n"
     ]
    }
   ],
   "source": [
    "print(0,1,2,3,4)"
   ]
  },
  {
   "cell_type": "code",
   "execution_count": 107,
   "metadata": {},
   "outputs": [
    {
     "name": "stdout",
     "output_type": "stream",
     "text": [
      "0 1 2 3 4 5 6 7 8 9\n"
     ]
    }
   ],
   "source": [
    "print(0,1,2,3,4,5,6,7,8,9)"
   ]
  },
  {
   "cell_type": "code",
   "execution_count": 110,
   "metadata": {},
   "outputs": [
    {
     "name": "stdout",
     "output_type": "stream",
     "text": [
      "0 1 2 3 4 5 6 7 8 9 10 11 12 13 14 15 16 17 18 19 20 21 22 23 24 25 26 27 28 29 30 31 32 33 34 35 36 37 38 39 40 41 42 43 44 45 46 47 48 49 50 "
     ]
    }
   ],
   "source": [
    "for val in range(0,51): # range(start,end,step)\n",
    "    print(val,end = ' ')"
   ]
  },
  {
   "cell_type": "code",
   "execution_count": 111,
   "metadata": {},
   "outputs": [
    {
     "name": "stdout",
     "output_type": "stream",
     "text": [
      "0 2 4 6 8 10 12 14 16 18 20 22 24 26 28 30 32 34 36 38 40 42 44 46 48 50 "
     ]
    }
   ],
   "source": [
    "for val in range(0,51,2):\n",
    "    print(val,end = ' ')"
   ]
  },
  {
   "cell_type": "code",
   "execution_count": 112,
   "metadata": {},
   "outputs": [
    {
     "name": "stdout",
     "output_type": "stream",
     "text": [
      "1 3 5 7 9 11 13 15 17 19 21 23 25 27 29 31 33 35 37 39 41 43 45 47 49 "
     ]
    }
   ],
   "source": [
    "for val in range(1,51,2):\n",
    "    print(val,end = ' ')"
   ]
  },
  {
   "cell_type": "code",
   "execution_count": 132,
   "metadata": {},
   "outputs": [
    {
     "name": "stdout",
     "output_type": "stream",
     "text": [
      "s*t*r*i*n*g*"
     ]
    }
   ],
   "source": [
    "s = 'string'\n",
    "l  = len(s)\n",
    "for char in range(l):\n",
    "    print(s[char],end = '*')\n",
    "    "
   ]
  },
  {
   "cell_type": "code",
   "execution_count": 116,
   "metadata": {},
   "outputs": [
    {
     "data": {
      "text/plain": [
       "6"
      ]
     },
     "execution_count": 116,
     "metadata": {},
     "output_type": "execute_result"
    }
   ],
   "source": [
    "l  = len(s)\n",
    "l"
   ]
  },
  {
   "cell_type": "code",
   "execution_count": 2,
   "metadata": {},
   "outputs": [
    {
     "name": "stdout",
     "output_type": "stream",
     "text": [
      "0  1  2  3  4  5  6  7  8  9  10  11  12  13  14  15  16  17  18  19  20  21  22  23  24  25  26  27  28  29  30  31  32  33  34  35  36  37  38  39  40  41  42  43  44  45  46  47  48  49  50  "
     ]
    }
   ],
   "source": [
    "i = 0\n",
    "while(i<=50):\n",
    "    print(i,end = \"  \")\n",
    "    i += 1"
   ]
  },
  {
   "cell_type": "code",
   "execution_count": null,
   "metadata": {},
   "outputs": [],
   "source": [
    "i = 0 \n",
    "while (i <= 50):\n",
    "    if (i == 10):\n",
    "        break\n",
    "    i += 1\n",
    "    print(i) \n",
    "else:\n",
    "    print(i) "
   ]
  },
  {
   "cell_type": "code",
   "execution_count": null,
   "metadata": {},
   "outputs": [],
   "source": [
    "# "
   ]
  }
 ],
 "metadata": {
  "kernelspec": {
   "display_name": "Python 3",
   "language": "python",
   "name": "python3"
  },
  "language_info": {
   "codemirror_mode": {
    "name": "ipython",
    "version": 3
   },
   "file_extension": ".py",
   "mimetype": "text/x-python",
   "name": "python",
   "nbconvert_exporter": "python",
   "pygments_lexer": "ipython3",
   "version": "3.7.3"
  }
 },
 "nbformat": 4,
 "nbformat_minor": 2
}
